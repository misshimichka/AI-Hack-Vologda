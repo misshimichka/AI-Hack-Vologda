{
  "cells": [
    {
      "cell_type": "markdown",
      "source": [
        "## Установка библиотек"
      ],
      "metadata": {
        "id": "Dp7ssCMkHQ3U"
      }
    },
    {
      "cell_type": "code",
      "source": [
        "!pip install catboost"
      ],
      "metadata": {
        "id": "TcfZFD_cXo8o"
      },
      "execution_count": null,
      "outputs": []
    },
    {
      "cell_type": "code",
      "source": [
        "!pip install optuna"
      ],
      "metadata": {
        "id": "YkCJaziyZrQa"
      },
      "execution_count": null,
      "outputs": []
    },
    {
      "cell_type": "code",
      "source": [
        "!!pip install transformers"
      ],
      "metadata": {
        "id": "QeY3ZCQ5mbIb"
      },
      "execution_count": null,
      "outputs": []
    },
    {
      "cell_type": "code",
      "source": [
        "!pip install datasets"
      ],
      "metadata": {
        "id": "osnez4jUmeTv"
      },
      "execution_count": null,
      "outputs": []
    },
    {
      "cell_type": "code",
      "source": [
        "!pip install lightgbm"
      ],
      "metadata": {
        "id": "_NsVodaq5WF0"
      },
      "execution_count": null,
      "outputs": []
    },
    {
      "cell_type": "code",
      "source": [
        "import optuna\n",
        "from optuna.visualization import plot_optimization_history, plot_param_importances"
      ],
      "metadata": {
        "id": "s2OeBAQGZwKo"
      },
      "execution_count": null,
      "outputs": []
    },
    {
      "cell_type": "code",
      "execution_count": 3,
      "metadata": {
        "id": "BwNGqMidQiRi"
      },
      "outputs": [],
      "source": [
        "import pandas as pd\n",
        "import seaborn as sns\n",
        "import matplotlib.pyplot as plt\n",
        "import numpy as np \n",
        "import string\n",
        "import re\n",
        "import shutil\n",
        "\n",
        "%matplotlib inline"
      ]
    },
    {
      "cell_type": "code",
      "source": [
        "from sklearn.model_selection import train_test_split\n",
        "from sklearn.ensemble import RandomForestClassifier\n",
        "from sklearn.decomposition import PCA\n",
        "from sklearn.tree import DecisionTreeClassifier\n",
        "from sklearn.ensemble import AdaBoostClassifier\n",
        "from sklearn.neighbors import KNeighborsClassifier\n",
        "from sklearn.naive_bayes import GaussianNB\n",
        "from sklearn.gaussian_process import GaussianProcessClassifier\n",
        "from sklearn.metrics import recall_score\n",
        "from sklearn.linear_model import LinearRegression, LogisticRegression"
      ],
      "metadata": {
        "id": "HuHn_3cPX0kf"
      },
      "execution_count": 4,
      "outputs": []
    },
    {
      "cell_type": "code",
      "source": [
        "from catboost import CatBoostClassifier"
      ],
      "metadata": {
        "id": "97YOwKH6jymI"
      },
      "execution_count": 68,
      "outputs": []
    },
    {
      "cell_type": "code",
      "source": [
        "from xgboost import XGBClassifier"
      ],
      "metadata": {
        "id": "pvKQx6BgX2TF"
      },
      "execution_count": null,
      "outputs": []
    },
    {
      "cell_type": "code",
      "source": [
        "from lightgbm import LGBMClassifier"
      ],
      "metadata": {
        "id": "lMr-kMFl5a78"
      },
      "execution_count": null,
      "outputs": []
    },
    {
      "cell_type": "code",
      "source": [
        "import torch"
      ],
      "metadata": {
        "id": "hwxg1FzIsnHR"
      },
      "execution_count": 5,
      "outputs": []
    },
    {
      "cell_type": "code",
      "source": [
        "from transformers import AutoTokenizer, AutoModel\n",
        "from transformers import BertForSequenceClassification, AdamW, BertConfig\n",
        "from transformers import get_linear_schedule_with_warmup\n",
        "from transformers import TrainingArguments, Trainer\n",
        "\n",
        "from datasets import load_dataset, Dataset\n",
        "from datasets import load_metric\n",
        "\n",
        "import nltk \n",
        "from nltk.corpus import stopwords"
      ],
      "metadata": {
        "id": "s6Mnh5p2mkTt"
      },
      "execution_count": 6,
      "outputs": []
    },
    {
      "cell_type": "markdown",
      "source": [
        "## EDA"
      ],
      "metadata": {
        "id": "Nvq8pIE_kI9e"
      }
    },
    {
      "cell_type": "code",
      "execution_count": null,
      "metadata": {
        "id": "3TZUcuZ33rM5"
      },
      "outputs": [],
      "source": [
        "train = pd.read_csv(\"train_dataset_train.csv\")\n",
        "test = pd.read_csv(\"test_dataset_test.csv\")"
      ]
    },
    {
      "cell_type": "code",
      "execution_count": null,
      "metadata": {
        "id": "gvcl_K3FQ-os",
        "colab": {
          "base_uri": "https://localhost:8080/",
          "height": 433
        },
        "outputId": "b6b3a3a7-eff1-4147-8610-f3e8c4770252"
      },
      "outputs": [
        {
          "output_type": "execute_result",
          "data": {
            "text/plain": [
              "   RecordNo           Название книги         Автор  \\\n",
              "0      6145  Зулейха открывает глаза  Гузель Яхина   \n",
              "1      7006  Зулейха открывает глаза  Гузель Яхина   \n",
              "2      1124                 Дети мои  Гузель Яхина   \n",
              "\n",
              "                                    Ссылка на литрес  Рейтинг  \\\n",
              "0  https://www.litres.ru/guzel-yahina/zuleyha-otk...      4.7   \n",
              "1  https://www.litres.ru/guzel-yahina/zuleyha-otk...      4.6   \n",
              "2       https://www.litres.ru/guzel-yahina/deti-moi/      4.4   \n",
              "\n",
              "   Количество оценок  Количество отзывов    Имя читателя  \\\n",
              "0               3922                 408   Айгуль Ляпина   \n",
              "1              24719                2103          Olga T   \n",
              "2               8032                 702  Кирилл Чириков   \n",
              "\n",
              "   Оценка книги читателем (из 5 баллов)  \\\n",
              "0                                   5.0   \n",
              "1                                   5.0   \n",
              "2                                   5.0   \n",
              "\n",
              "                                               Отзыв  Лайки на отзыв  \\\n",
              "0  Рекомендую книгу в прочтению/прослушиванию. Ес...               0   \n",
              "1  Удивительно, что сейчас возникает ТАКАЯ литера...               0   \n",
              "2  Душевно, жизненно, чувственно, проникновенно!!...               0   \n",
              "\n",
              "   Дислайки на отзыв  Релевантность  Таксономия релевантные  \\\n",
              "0                  3              0                       0   \n",
              "1                  1              0                       0   \n",
              "2                  0              0                       1   \n",
              "\n",
              "   Таксономия не релевантные  Длина отзыва  Ценности  \n",
              "0                          0             0         0  \n",
              "1                          0             0         1  \n",
              "2                          0             0         1  "
            ],
            "text/html": [
              "\n",
              "  <div id=\"df-8e4de9de-937e-4357-b51a-dc881c48aebf\">\n",
              "    <div class=\"colab-df-container\">\n",
              "      <div>\n",
              "<style scoped>\n",
              "    .dataframe tbody tr th:only-of-type {\n",
              "        vertical-align: middle;\n",
              "    }\n",
              "\n",
              "    .dataframe tbody tr th {\n",
              "        vertical-align: top;\n",
              "    }\n",
              "\n",
              "    .dataframe thead th {\n",
              "        text-align: right;\n",
              "    }\n",
              "</style>\n",
              "<table border=\"1\" class=\"dataframe\">\n",
              "  <thead>\n",
              "    <tr style=\"text-align: right;\">\n",
              "      <th></th>\n",
              "      <th>RecordNo</th>\n",
              "      <th>Название книги</th>\n",
              "      <th>Автор</th>\n",
              "      <th>Ссылка на литрес</th>\n",
              "      <th>Рейтинг</th>\n",
              "      <th>Количество оценок</th>\n",
              "      <th>Количество отзывов</th>\n",
              "      <th>Имя читателя</th>\n",
              "      <th>Оценка книги читателем (из 5 баллов)</th>\n",
              "      <th>Отзыв</th>\n",
              "      <th>Лайки на отзыв</th>\n",
              "      <th>Дислайки на отзыв</th>\n",
              "      <th>Релевантность</th>\n",
              "      <th>Таксономия релевантные</th>\n",
              "      <th>Таксономия не релевантные</th>\n",
              "      <th>Длина отзыва</th>\n",
              "      <th>Ценности</th>\n",
              "    </tr>\n",
              "  </thead>\n",
              "  <tbody>\n",
              "    <tr>\n",
              "      <th>0</th>\n",
              "      <td>6145</td>\n",
              "      <td>Зулейха открывает глаза</td>\n",
              "      <td>Гузель Яхина</td>\n",
              "      <td>https://www.litres.ru/guzel-yahina/zuleyha-otk...</td>\n",
              "      <td>4.7</td>\n",
              "      <td>3922</td>\n",
              "      <td>408</td>\n",
              "      <td>Айгуль Ляпина</td>\n",
              "      <td>5.0</td>\n",
              "      <td>Рекомендую книгу в прочтению/прослушиванию. Ес...</td>\n",
              "      <td>0</td>\n",
              "      <td>3</td>\n",
              "      <td>0</td>\n",
              "      <td>0</td>\n",
              "      <td>0</td>\n",
              "      <td>0</td>\n",
              "      <td>0</td>\n",
              "    </tr>\n",
              "    <tr>\n",
              "      <th>1</th>\n",
              "      <td>7006</td>\n",
              "      <td>Зулейха открывает глаза</td>\n",
              "      <td>Гузель Яхина</td>\n",
              "      <td>https://www.litres.ru/guzel-yahina/zuleyha-otk...</td>\n",
              "      <td>4.6</td>\n",
              "      <td>24719</td>\n",
              "      <td>2103</td>\n",
              "      <td>Olga T</td>\n",
              "      <td>5.0</td>\n",
              "      <td>Удивительно, что сейчас возникает ТАКАЯ литера...</td>\n",
              "      <td>0</td>\n",
              "      <td>1</td>\n",
              "      <td>0</td>\n",
              "      <td>0</td>\n",
              "      <td>0</td>\n",
              "      <td>0</td>\n",
              "      <td>1</td>\n",
              "    </tr>\n",
              "    <tr>\n",
              "      <th>2</th>\n",
              "      <td>1124</td>\n",
              "      <td>Дети мои</td>\n",
              "      <td>Гузель Яхина</td>\n",
              "      <td>https://www.litres.ru/guzel-yahina/deti-moi/</td>\n",
              "      <td>4.4</td>\n",
              "      <td>8032</td>\n",
              "      <td>702</td>\n",
              "      <td>Кирилл Чириков</td>\n",
              "      <td>5.0</td>\n",
              "      <td>Душевно, жизненно, чувственно, проникновенно!!...</td>\n",
              "      <td>0</td>\n",
              "      <td>0</td>\n",
              "      <td>0</td>\n",
              "      <td>1</td>\n",
              "      <td>0</td>\n",
              "      <td>0</td>\n",
              "      <td>1</td>\n",
              "    </tr>\n",
              "  </tbody>\n",
              "</table>\n",
              "</div>\n",
              "      <button class=\"colab-df-convert\" onclick=\"convertToInteractive('df-8e4de9de-937e-4357-b51a-dc881c48aebf')\"\n",
              "              title=\"Convert this dataframe to an interactive table.\"\n",
              "              style=\"display:none;\">\n",
              "        \n",
              "  <svg xmlns=\"http://www.w3.org/2000/svg\" height=\"24px\"viewBox=\"0 0 24 24\"\n",
              "       width=\"24px\">\n",
              "    <path d=\"M0 0h24v24H0V0z\" fill=\"none\"/>\n",
              "    <path d=\"M18.56 5.44l.94 2.06.94-2.06 2.06-.94-2.06-.94-.94-2.06-.94 2.06-2.06.94zm-11 1L8.5 8.5l.94-2.06 2.06-.94-2.06-.94L8.5 2.5l-.94 2.06-2.06.94zm10 10l.94 2.06.94-2.06 2.06-.94-2.06-.94-.94-2.06-.94 2.06-2.06.94z\"/><path d=\"M17.41 7.96l-1.37-1.37c-.4-.4-.92-.59-1.43-.59-.52 0-1.04.2-1.43.59L10.3 9.45l-7.72 7.72c-.78.78-.78 2.05 0 2.83L4 21.41c.39.39.9.59 1.41.59.51 0 1.02-.2 1.41-.59l7.78-7.78 2.81-2.81c.8-.78.8-2.07 0-2.86zM5.41 20L4 18.59l7.72-7.72 1.47 1.35L5.41 20z\"/>\n",
              "  </svg>\n",
              "      </button>\n",
              "      \n",
              "  <style>\n",
              "    .colab-df-container {\n",
              "      display:flex;\n",
              "      flex-wrap:wrap;\n",
              "      gap: 12px;\n",
              "    }\n",
              "\n",
              "    .colab-df-convert {\n",
              "      background-color: #E8F0FE;\n",
              "      border: none;\n",
              "      border-radius: 50%;\n",
              "      cursor: pointer;\n",
              "      display: none;\n",
              "      fill: #1967D2;\n",
              "      height: 32px;\n",
              "      padding: 0 0 0 0;\n",
              "      width: 32px;\n",
              "    }\n",
              "\n",
              "    .colab-df-convert:hover {\n",
              "      background-color: #E2EBFA;\n",
              "      box-shadow: 0px 1px 2px rgba(60, 64, 67, 0.3), 0px 1px 3px 1px rgba(60, 64, 67, 0.15);\n",
              "      fill: #174EA6;\n",
              "    }\n",
              "\n",
              "    [theme=dark] .colab-df-convert {\n",
              "      background-color: #3B4455;\n",
              "      fill: #D2E3FC;\n",
              "    }\n",
              "\n",
              "    [theme=dark] .colab-df-convert:hover {\n",
              "      background-color: #434B5C;\n",
              "      box-shadow: 0px 1px 3px 1px rgba(0, 0, 0, 0.15);\n",
              "      filter: drop-shadow(0px 1px 2px rgba(0, 0, 0, 0.3));\n",
              "      fill: #FFFFFF;\n",
              "    }\n",
              "  </style>\n",
              "\n",
              "      <script>\n",
              "        const buttonEl =\n",
              "          document.querySelector('#df-8e4de9de-937e-4357-b51a-dc881c48aebf button.colab-df-convert');\n",
              "        buttonEl.style.display =\n",
              "          google.colab.kernel.accessAllowed ? 'block' : 'none';\n",
              "\n",
              "        async function convertToInteractive(key) {\n",
              "          const element = document.querySelector('#df-8e4de9de-937e-4357-b51a-dc881c48aebf');\n",
              "          const dataTable =\n",
              "            await google.colab.kernel.invokeFunction('convertToInteractive',\n",
              "                                                     [key], {});\n",
              "          if (!dataTable) return;\n",
              "\n",
              "          const docLinkHtml = 'Like what you see? Visit the ' +\n",
              "            '<a target=\"_blank\" href=https://colab.research.google.com/notebooks/data_table.ipynb>data table notebook</a>'\n",
              "            + ' to learn more about interactive tables.';\n",
              "          element.innerHTML = '';\n",
              "          dataTable['output_type'] = 'display_data';\n",
              "          await google.colab.output.renderOutput(dataTable, element);\n",
              "          const docLink = document.createElement('div');\n",
              "          docLink.innerHTML = docLinkHtml;\n",
              "          element.appendChild(docLink);\n",
              "        }\n",
              "      </script>\n",
              "    </div>\n",
              "  </div>\n",
              "  "
            ]
          },
          "metadata": {},
          "execution_count": 7
        }
      ],
      "source": [
        "train.head(3)"
      ]
    },
    {
      "cell_type": "code",
      "execution_count": null,
      "metadata": {
        "id": "SzAA5TKYfVey"
      },
      "outputs": [],
      "source": [
        "train.info()"
      ]
    },
    {
      "cell_type": "code",
      "source": [
        "train.describe()"
      ],
      "metadata": {
        "id": "3jqZsiu4mi5T",
        "colab": {
          "base_uri": "https://localhost:8080/",
          "height": 433
        },
        "outputId": "0e130890-42bd-49b8-ad09-a6e867d19f81"
      },
      "execution_count": null,
      "outputs": [
        {
          "output_type": "execute_result",
          "data": {
            "text/plain": [
              "          RecordNo        Автор      Рейтинг  Количество оценок  \\\n",
              "count  4839.000000  4839.000000  4839.000000        4839.000000   \n",
              "mean   4022.292829    25.320107     4.504546        8864.133499   \n",
              "std    2297.657785     8.916534     0.189645        9956.818440   \n",
              "min       2.000000     0.000000     3.200000           1.000000   \n",
              "25%    2042.000000    23.000000     4.400000        1212.000000   \n",
              "50%    4058.000000    23.000000     4.600000        3551.000000   \n",
              "75%    6028.000000    28.000000     4.600000       24719.000000   \n",
              "max    7960.000000    58.000000     5.000000       24719.000000   \n",
              "\n",
              "       Количество отзывов  Оценка книги читателем (из 5 баллов)  \\\n",
              "count         4839.000000                           4839.000000   \n",
              "mean           764.269890                              4.422815   \n",
              "std            841.728494                              0.966889   \n",
              "min              1.000000                              1.000000   \n",
              "25%            113.000000                              4.000000   \n",
              "50%            285.000000                              5.000000   \n",
              "75%           2103.000000                              5.000000   \n",
              "max           2103.000000                              5.000000   \n",
              "\n",
              "       Лайки на отзыв  Дислайки на отзыв  Релевантность  \\\n",
              "count     4839.000000        4839.000000    4839.000000   \n",
              "mean         4.025832           1.790453       0.218640   \n",
              "std         26.075881          10.973393       0.413367   \n",
              "min          0.000000           0.000000       0.000000   \n",
              "25%          0.000000           0.000000       0.000000   \n",
              "50%          0.000000           1.000000       0.000000   \n",
              "75%          2.000000           1.000000       0.000000   \n",
              "max        874.000000         459.000000       1.000000   \n",
              "\n",
              "       Таксономия релевантные  Таксономия не релевантные  Длина отзыва  \\\n",
              "count             4839.000000                4839.000000   4839.000000   \n",
              "mean                 0.512296                   0.126886      0.234759   \n",
              "std                  0.499900                   0.332879      0.423892   \n",
              "min                  0.000000                   0.000000      0.000000   \n",
              "25%                  0.000000                   0.000000      0.000000   \n",
              "50%                  1.000000                   0.000000      0.000000   \n",
              "75%                  1.000000                   0.000000      0.000000   \n",
              "max                  1.000000                   1.000000      1.000000   \n",
              "\n",
              "          Ценности  Длина отзыва (числ.)  \n",
              "count  4839.000000           4839.000000  \n",
              "mean      0.542054            335.560240  \n",
              "std       0.498280            344.711384  \n",
              "min       0.000000              1.000000  \n",
              "25%       0.000000            171.000000  \n",
              "50%       1.000000            235.000000  \n",
              "75%       1.000000            377.000000  \n",
              "max       1.000000           6028.000000  "
            ],
            "text/html": [
              "\n",
              "  <div id=\"df-c4a60df0-3cfa-4443-a30b-98377e87d340\">\n",
              "    <div class=\"colab-df-container\">\n",
              "      <div>\n",
              "<style scoped>\n",
              "    .dataframe tbody tr th:only-of-type {\n",
              "        vertical-align: middle;\n",
              "    }\n",
              "\n",
              "    .dataframe tbody tr th {\n",
              "        vertical-align: top;\n",
              "    }\n",
              "\n",
              "    .dataframe thead th {\n",
              "        text-align: right;\n",
              "    }\n",
              "</style>\n",
              "<table border=\"1\" class=\"dataframe\">\n",
              "  <thead>\n",
              "    <tr style=\"text-align: right;\">\n",
              "      <th></th>\n",
              "      <th>RecordNo</th>\n",
              "      <th>Автор</th>\n",
              "      <th>Рейтинг</th>\n",
              "      <th>Количество оценок</th>\n",
              "      <th>Количество отзывов</th>\n",
              "      <th>Оценка книги читателем (из 5 баллов)</th>\n",
              "      <th>Лайки на отзыв</th>\n",
              "      <th>Дислайки на отзыв</th>\n",
              "      <th>Релевантность</th>\n",
              "      <th>Таксономия релевантные</th>\n",
              "      <th>Таксономия не релевантные</th>\n",
              "      <th>Длина отзыва</th>\n",
              "      <th>Ценности</th>\n",
              "      <th>Длина отзыва (числ.)</th>\n",
              "    </tr>\n",
              "  </thead>\n",
              "  <tbody>\n",
              "    <tr>\n",
              "      <th>count</th>\n",
              "      <td>4839.000000</td>\n",
              "      <td>4839.000000</td>\n",
              "      <td>4839.000000</td>\n",
              "      <td>4839.000000</td>\n",
              "      <td>4839.000000</td>\n",
              "      <td>4839.000000</td>\n",
              "      <td>4839.000000</td>\n",
              "      <td>4839.000000</td>\n",
              "      <td>4839.000000</td>\n",
              "      <td>4839.000000</td>\n",
              "      <td>4839.000000</td>\n",
              "      <td>4839.000000</td>\n",
              "      <td>4839.000000</td>\n",
              "      <td>4839.000000</td>\n",
              "    </tr>\n",
              "    <tr>\n",
              "      <th>mean</th>\n",
              "      <td>4022.292829</td>\n",
              "      <td>25.320107</td>\n",
              "      <td>4.504546</td>\n",
              "      <td>8864.133499</td>\n",
              "      <td>764.269890</td>\n",
              "      <td>4.422815</td>\n",
              "      <td>4.025832</td>\n",
              "      <td>1.790453</td>\n",
              "      <td>0.218640</td>\n",
              "      <td>0.512296</td>\n",
              "      <td>0.126886</td>\n",
              "      <td>0.234759</td>\n",
              "      <td>0.542054</td>\n",
              "      <td>335.560240</td>\n",
              "    </tr>\n",
              "    <tr>\n",
              "      <th>std</th>\n",
              "      <td>2297.657785</td>\n",
              "      <td>8.916534</td>\n",
              "      <td>0.189645</td>\n",
              "      <td>9956.818440</td>\n",
              "      <td>841.728494</td>\n",
              "      <td>0.966889</td>\n",
              "      <td>26.075881</td>\n",
              "      <td>10.973393</td>\n",
              "      <td>0.413367</td>\n",
              "      <td>0.499900</td>\n",
              "      <td>0.332879</td>\n",
              "      <td>0.423892</td>\n",
              "      <td>0.498280</td>\n",
              "      <td>344.711384</td>\n",
              "    </tr>\n",
              "    <tr>\n",
              "      <th>min</th>\n",
              "      <td>2.000000</td>\n",
              "      <td>0.000000</td>\n",
              "      <td>3.200000</td>\n",
              "      <td>1.000000</td>\n",
              "      <td>1.000000</td>\n",
              "      <td>1.000000</td>\n",
              "      <td>0.000000</td>\n",
              "      <td>0.000000</td>\n",
              "      <td>0.000000</td>\n",
              "      <td>0.000000</td>\n",
              "      <td>0.000000</td>\n",
              "      <td>0.000000</td>\n",
              "      <td>0.000000</td>\n",
              "      <td>1.000000</td>\n",
              "    </tr>\n",
              "    <tr>\n",
              "      <th>25%</th>\n",
              "      <td>2042.000000</td>\n",
              "      <td>23.000000</td>\n",
              "      <td>4.400000</td>\n",
              "      <td>1212.000000</td>\n",
              "      <td>113.000000</td>\n",
              "      <td>4.000000</td>\n",
              "      <td>0.000000</td>\n",
              "      <td>0.000000</td>\n",
              "      <td>0.000000</td>\n",
              "      <td>0.000000</td>\n",
              "      <td>0.000000</td>\n",
              "      <td>0.000000</td>\n",
              "      <td>0.000000</td>\n",
              "      <td>171.000000</td>\n",
              "    </tr>\n",
              "    <tr>\n",
              "      <th>50%</th>\n",
              "      <td>4058.000000</td>\n",
              "      <td>23.000000</td>\n",
              "      <td>4.600000</td>\n",
              "      <td>3551.000000</td>\n",
              "      <td>285.000000</td>\n",
              "      <td>5.000000</td>\n",
              "      <td>0.000000</td>\n",
              "      <td>1.000000</td>\n",
              "      <td>0.000000</td>\n",
              "      <td>1.000000</td>\n",
              "      <td>0.000000</td>\n",
              "      <td>0.000000</td>\n",
              "      <td>1.000000</td>\n",
              "      <td>235.000000</td>\n",
              "    </tr>\n",
              "    <tr>\n",
              "      <th>75%</th>\n",
              "      <td>6028.000000</td>\n",
              "      <td>28.000000</td>\n",
              "      <td>4.600000</td>\n",
              "      <td>24719.000000</td>\n",
              "      <td>2103.000000</td>\n",
              "      <td>5.000000</td>\n",
              "      <td>2.000000</td>\n",
              "      <td>1.000000</td>\n",
              "      <td>0.000000</td>\n",
              "      <td>1.000000</td>\n",
              "      <td>0.000000</td>\n",
              "      <td>0.000000</td>\n",
              "      <td>1.000000</td>\n",
              "      <td>377.000000</td>\n",
              "    </tr>\n",
              "    <tr>\n",
              "      <th>max</th>\n",
              "      <td>7960.000000</td>\n",
              "      <td>58.000000</td>\n",
              "      <td>5.000000</td>\n",
              "      <td>24719.000000</td>\n",
              "      <td>2103.000000</td>\n",
              "      <td>5.000000</td>\n",
              "      <td>874.000000</td>\n",
              "      <td>459.000000</td>\n",
              "      <td>1.000000</td>\n",
              "      <td>1.000000</td>\n",
              "      <td>1.000000</td>\n",
              "      <td>1.000000</td>\n",
              "      <td>1.000000</td>\n",
              "      <td>6028.000000</td>\n",
              "    </tr>\n",
              "  </tbody>\n",
              "</table>\n",
              "</div>\n",
              "      <button class=\"colab-df-convert\" onclick=\"convertToInteractive('df-c4a60df0-3cfa-4443-a30b-98377e87d340')\"\n",
              "              title=\"Convert this dataframe to an interactive table.\"\n",
              "              style=\"display:none;\">\n",
              "        \n",
              "  <svg xmlns=\"http://www.w3.org/2000/svg\" height=\"24px\"viewBox=\"0 0 24 24\"\n",
              "       width=\"24px\">\n",
              "    <path d=\"M0 0h24v24H0V0z\" fill=\"none\"/>\n",
              "    <path d=\"M18.56 5.44l.94 2.06.94-2.06 2.06-.94-2.06-.94-.94-2.06-.94 2.06-2.06.94zm-11 1L8.5 8.5l.94-2.06 2.06-.94-2.06-.94L8.5 2.5l-.94 2.06-2.06.94zm10 10l.94 2.06.94-2.06 2.06-.94-2.06-.94-.94-2.06-.94 2.06-2.06.94z\"/><path d=\"M17.41 7.96l-1.37-1.37c-.4-.4-.92-.59-1.43-.59-.52 0-1.04.2-1.43.59L10.3 9.45l-7.72 7.72c-.78.78-.78 2.05 0 2.83L4 21.41c.39.39.9.59 1.41.59.51 0 1.02-.2 1.41-.59l7.78-7.78 2.81-2.81c.8-.78.8-2.07 0-2.86zM5.41 20L4 18.59l7.72-7.72 1.47 1.35L5.41 20z\"/>\n",
              "  </svg>\n",
              "      </button>\n",
              "      \n",
              "  <style>\n",
              "    .colab-df-container {\n",
              "      display:flex;\n",
              "      flex-wrap:wrap;\n",
              "      gap: 12px;\n",
              "    }\n",
              "\n",
              "    .colab-df-convert {\n",
              "      background-color: #E8F0FE;\n",
              "      border: none;\n",
              "      border-radius: 50%;\n",
              "      cursor: pointer;\n",
              "      display: none;\n",
              "      fill: #1967D2;\n",
              "      height: 32px;\n",
              "      padding: 0 0 0 0;\n",
              "      width: 32px;\n",
              "    }\n",
              "\n",
              "    .colab-df-convert:hover {\n",
              "      background-color: #E2EBFA;\n",
              "      box-shadow: 0px 1px 2px rgba(60, 64, 67, 0.3), 0px 1px 3px 1px rgba(60, 64, 67, 0.15);\n",
              "      fill: #174EA6;\n",
              "    }\n",
              "\n",
              "    [theme=dark] .colab-df-convert {\n",
              "      background-color: #3B4455;\n",
              "      fill: #D2E3FC;\n",
              "    }\n",
              "\n",
              "    [theme=dark] .colab-df-convert:hover {\n",
              "      background-color: #434B5C;\n",
              "      box-shadow: 0px 1px 3px 1px rgba(0, 0, 0, 0.15);\n",
              "      filter: drop-shadow(0px 1px 2px rgba(0, 0, 0, 0.3));\n",
              "      fill: #FFFFFF;\n",
              "    }\n",
              "  </style>\n",
              "\n",
              "      <script>\n",
              "        const buttonEl =\n",
              "          document.querySelector('#df-c4a60df0-3cfa-4443-a30b-98377e87d340 button.colab-df-convert');\n",
              "        buttonEl.style.display =\n",
              "          google.colab.kernel.accessAllowed ? 'block' : 'none';\n",
              "\n",
              "        async function convertToInteractive(key) {\n",
              "          const element = document.querySelector('#df-c4a60df0-3cfa-4443-a30b-98377e87d340');\n",
              "          const dataTable =\n",
              "            await google.colab.kernel.invokeFunction('convertToInteractive',\n",
              "                                                     [key], {});\n",
              "          if (!dataTable) return;\n",
              "\n",
              "          const docLinkHtml = 'Like what you see? Visit the ' +\n",
              "            '<a target=\"_blank\" href=https://colab.research.google.com/notebooks/data_table.ipynb>data table notebook</a>'\n",
              "            + ' to learn more about interactive tables.';\n",
              "          element.innerHTML = '';\n",
              "          dataTable['output_type'] = 'display_data';\n",
              "          await google.colab.output.renderOutput(dataTable, element);\n",
              "          const docLink = document.createElement('div');\n",
              "          docLink.innerHTML = docLinkHtml;\n",
              "          element.appendChild(docLink);\n",
              "        }\n",
              "      </script>\n",
              "    </div>\n",
              "  </div>\n",
              "  "
            ]
          },
          "metadata": {},
          "execution_count": 271
        }
      ]
    },
    {
      "cell_type": "code",
      "source": [
        "test.describe()"
      ],
      "metadata": {
        "colab": {
          "base_uri": "https://localhost:8080/",
          "height": 433
        },
        "id": "jiUaYX-1gNPq",
        "outputId": "a9d61f10-67c1-44c8-c938-7dd18eb5dbf1"
      },
      "execution_count": null,
      "outputs": [
        {
          "output_type": "execute_result",
          "data": {
            "text/plain": [
              "             Автор      Рейтинг  Количество оценок  Количество отзывов  \\\n",
              "count  2075.000000  2075.000000        2075.000000         2075.000000   \n",
              "mean     21.924337     4.504964        8655.117590          746.907470   \n",
              "std       8.502740     0.197744        9850.412201          832.518551   \n",
              "min       0.000000     3.200000           1.000000            1.000000   \n",
              "25%      19.000000     4.400000        1212.000000          110.000000   \n",
              "50%      19.000000     4.600000        3551.000000          285.000000   \n",
              "75%      24.000000     4.600000       24719.000000         2103.000000   \n",
              "max      51.000000     5.000000       24719.000000         2103.000000   \n",
              "\n",
              "       Оценка книги читателем (из 5 баллов)  Лайки на отзыв  \\\n",
              "count                           2075.000000     2075.000000   \n",
              "mean                               4.418313        3.956627   \n",
              "std                                0.984671       18.704190   \n",
              "min                                1.000000        0.000000   \n",
              "25%                                4.000000        0.000000   \n",
              "50%                                5.000000        0.000000   \n",
              "75%                                5.000000        2.000000   \n",
              "max                                5.000000      361.000000   \n",
              "\n",
              "       Дислайки на отзыв  Длина отзыва (числ.)  \n",
              "count        2075.000000           2075.000000  \n",
              "mean            1.722892            341.235181  \n",
              "std             7.458521            405.514266  \n",
              "min             0.000000             59.000000  \n",
              "25%             0.000000            168.000000  \n",
              "50%             1.000000            233.000000  \n",
              "75%             1.000000            376.000000  \n",
              "max           247.000000           8402.000000  "
            ],
            "text/html": [
              "\n",
              "  <div id=\"df-c6762c2c-1ddc-4aae-96e2-2fb26742b881\">\n",
              "    <div class=\"colab-df-container\">\n",
              "      <div>\n",
              "<style scoped>\n",
              "    .dataframe tbody tr th:only-of-type {\n",
              "        vertical-align: middle;\n",
              "    }\n",
              "\n",
              "    .dataframe tbody tr th {\n",
              "        vertical-align: top;\n",
              "    }\n",
              "\n",
              "    .dataframe thead th {\n",
              "        text-align: right;\n",
              "    }\n",
              "</style>\n",
              "<table border=\"1\" class=\"dataframe\">\n",
              "  <thead>\n",
              "    <tr style=\"text-align: right;\">\n",
              "      <th></th>\n",
              "      <th>Автор</th>\n",
              "      <th>Рейтинг</th>\n",
              "      <th>Количество оценок</th>\n",
              "      <th>Количество отзывов</th>\n",
              "      <th>Оценка книги читателем (из 5 баллов)</th>\n",
              "      <th>Лайки на отзыв</th>\n",
              "      <th>Дислайки на отзыв</th>\n",
              "      <th>Длина отзыва (числ.)</th>\n",
              "    </tr>\n",
              "  </thead>\n",
              "  <tbody>\n",
              "    <tr>\n",
              "      <th>count</th>\n",
              "      <td>2075.000000</td>\n",
              "      <td>2075.000000</td>\n",
              "      <td>2075.000000</td>\n",
              "      <td>2075.000000</td>\n",
              "      <td>2075.000000</td>\n",
              "      <td>2075.000000</td>\n",
              "      <td>2075.000000</td>\n",
              "      <td>2075.000000</td>\n",
              "    </tr>\n",
              "    <tr>\n",
              "      <th>mean</th>\n",
              "      <td>21.924337</td>\n",
              "      <td>4.504964</td>\n",
              "      <td>8655.117590</td>\n",
              "      <td>746.907470</td>\n",
              "      <td>4.418313</td>\n",
              "      <td>3.956627</td>\n",
              "      <td>1.722892</td>\n",
              "      <td>341.235181</td>\n",
              "    </tr>\n",
              "    <tr>\n",
              "      <th>std</th>\n",
              "      <td>8.502740</td>\n",
              "      <td>0.197744</td>\n",
              "      <td>9850.412201</td>\n",
              "      <td>832.518551</td>\n",
              "      <td>0.984671</td>\n",
              "      <td>18.704190</td>\n",
              "      <td>7.458521</td>\n",
              "      <td>405.514266</td>\n",
              "    </tr>\n",
              "    <tr>\n",
              "      <th>min</th>\n",
              "      <td>0.000000</td>\n",
              "      <td>3.200000</td>\n",
              "      <td>1.000000</td>\n",
              "      <td>1.000000</td>\n",
              "      <td>1.000000</td>\n",
              "      <td>0.000000</td>\n",
              "      <td>0.000000</td>\n",
              "      <td>59.000000</td>\n",
              "    </tr>\n",
              "    <tr>\n",
              "      <th>25%</th>\n",
              "      <td>19.000000</td>\n",
              "      <td>4.400000</td>\n",
              "      <td>1212.000000</td>\n",
              "      <td>110.000000</td>\n",
              "      <td>4.000000</td>\n",
              "      <td>0.000000</td>\n",
              "      <td>0.000000</td>\n",
              "      <td>168.000000</td>\n",
              "    </tr>\n",
              "    <tr>\n",
              "      <th>50%</th>\n",
              "      <td>19.000000</td>\n",
              "      <td>4.600000</td>\n",
              "      <td>3551.000000</td>\n",
              "      <td>285.000000</td>\n",
              "      <td>5.000000</td>\n",
              "      <td>0.000000</td>\n",
              "      <td>1.000000</td>\n",
              "      <td>233.000000</td>\n",
              "    </tr>\n",
              "    <tr>\n",
              "      <th>75%</th>\n",
              "      <td>24.000000</td>\n",
              "      <td>4.600000</td>\n",
              "      <td>24719.000000</td>\n",
              "      <td>2103.000000</td>\n",
              "      <td>5.000000</td>\n",
              "      <td>2.000000</td>\n",
              "      <td>1.000000</td>\n",
              "      <td>376.000000</td>\n",
              "    </tr>\n",
              "    <tr>\n",
              "      <th>max</th>\n",
              "      <td>51.000000</td>\n",
              "      <td>5.000000</td>\n",
              "      <td>24719.000000</td>\n",
              "      <td>2103.000000</td>\n",
              "      <td>5.000000</td>\n",
              "      <td>361.000000</td>\n",
              "      <td>247.000000</td>\n",
              "      <td>8402.000000</td>\n",
              "    </tr>\n",
              "  </tbody>\n",
              "</table>\n",
              "</div>\n",
              "      <button class=\"colab-df-convert\" onclick=\"convertToInteractive('df-c6762c2c-1ddc-4aae-96e2-2fb26742b881')\"\n",
              "              title=\"Convert this dataframe to an interactive table.\"\n",
              "              style=\"display:none;\">\n",
              "        \n",
              "  <svg xmlns=\"http://www.w3.org/2000/svg\" height=\"24px\"viewBox=\"0 0 24 24\"\n",
              "       width=\"24px\">\n",
              "    <path d=\"M0 0h24v24H0V0z\" fill=\"none\"/>\n",
              "    <path d=\"M18.56 5.44l.94 2.06.94-2.06 2.06-.94-2.06-.94-.94-2.06-.94 2.06-2.06.94zm-11 1L8.5 8.5l.94-2.06 2.06-.94-2.06-.94L8.5 2.5l-.94 2.06-2.06.94zm10 10l.94 2.06.94-2.06 2.06-.94-2.06-.94-.94-2.06-.94 2.06-2.06.94z\"/><path d=\"M17.41 7.96l-1.37-1.37c-.4-.4-.92-.59-1.43-.59-.52 0-1.04.2-1.43.59L10.3 9.45l-7.72 7.72c-.78.78-.78 2.05 0 2.83L4 21.41c.39.39.9.59 1.41.59.51 0 1.02-.2 1.41-.59l7.78-7.78 2.81-2.81c.8-.78.8-2.07 0-2.86zM5.41 20L4 18.59l7.72-7.72 1.47 1.35L5.41 20z\"/>\n",
              "  </svg>\n",
              "      </button>\n",
              "      \n",
              "  <style>\n",
              "    .colab-df-container {\n",
              "      display:flex;\n",
              "      flex-wrap:wrap;\n",
              "      gap: 12px;\n",
              "    }\n",
              "\n",
              "    .colab-df-convert {\n",
              "      background-color: #E8F0FE;\n",
              "      border: none;\n",
              "      border-radius: 50%;\n",
              "      cursor: pointer;\n",
              "      display: none;\n",
              "      fill: #1967D2;\n",
              "      height: 32px;\n",
              "      padding: 0 0 0 0;\n",
              "      width: 32px;\n",
              "    }\n",
              "\n",
              "    .colab-df-convert:hover {\n",
              "      background-color: #E2EBFA;\n",
              "      box-shadow: 0px 1px 2px rgba(60, 64, 67, 0.3), 0px 1px 3px 1px rgba(60, 64, 67, 0.15);\n",
              "      fill: #174EA6;\n",
              "    }\n",
              "\n",
              "    [theme=dark] .colab-df-convert {\n",
              "      background-color: #3B4455;\n",
              "      fill: #D2E3FC;\n",
              "    }\n",
              "\n",
              "    [theme=dark] .colab-df-convert:hover {\n",
              "      background-color: #434B5C;\n",
              "      box-shadow: 0px 1px 3px 1px rgba(0, 0, 0, 0.15);\n",
              "      filter: drop-shadow(0px 1px 2px rgba(0, 0, 0, 0.3));\n",
              "      fill: #FFFFFF;\n",
              "    }\n",
              "  </style>\n",
              "\n",
              "      <script>\n",
              "        const buttonEl =\n",
              "          document.querySelector('#df-c6762c2c-1ddc-4aae-96e2-2fb26742b881 button.colab-df-convert');\n",
              "        buttonEl.style.display =\n",
              "          google.colab.kernel.accessAllowed ? 'block' : 'none';\n",
              "\n",
              "        async function convertToInteractive(key) {\n",
              "          const element = document.querySelector('#df-c6762c2c-1ddc-4aae-96e2-2fb26742b881');\n",
              "          const dataTable =\n",
              "            await google.colab.kernel.invokeFunction('convertToInteractive',\n",
              "                                                     [key], {});\n",
              "          if (!dataTable) return;\n",
              "\n",
              "          const docLinkHtml = 'Like what you see? Visit the ' +\n",
              "            '<a target=\"_blank\" href=https://colab.research.google.com/notebooks/data_table.ipynb>data table notebook</a>'\n",
              "            + ' to learn more about interactive tables.';\n",
              "          element.innerHTML = '';\n",
              "          dataTable['output_type'] = 'display_data';\n",
              "          await google.colab.output.renderOutput(dataTable, element);\n",
              "          const docLink = document.createElement('div');\n",
              "          docLink.innerHTML = docLinkHtml;\n",
              "          element.appendChild(docLink);\n",
              "        }\n",
              "      </script>\n",
              "    </div>\n",
              "  </div>\n",
              "  "
            ]
          },
          "metadata": {},
          "execution_count": 295
        }
      ]
    },
    {
      "cell_type": "code",
      "source": [
        "rating = test[\"Оценка книги читателем (из 5 баллов)\"].fillna(4.5)"
      ],
      "metadata": {
        "id": "efyRL21rc_KQ"
      },
      "execution_count": 97,
      "outputs": []
    },
    {
      "cell_type": "code",
      "source": [
        "sns.barplot(rating, test[\"Количество отзывов\"])"
      ],
      "metadata": {
        "colab": {
          "base_uri": "https://localhost:8080/",
          "height": 353
        },
        "id": "jXYVnaNfddBo",
        "outputId": "1970c203-2787-44c8-96ae-b8f47b831792"
      },
      "execution_count": 98,
      "outputs": [
        {
          "output_type": "stream",
          "name": "stderr",
          "text": [
            "/usr/local/lib/python3.7/dist-packages/seaborn/_decorators.py:43: FutureWarning: Pass the following variables as keyword args: x, y. From version 0.12, the only valid positional argument will be `data`, and passing other arguments without an explicit keyword will result in an error or misinterpretation.\n",
            "  FutureWarning\n"
          ]
        },
        {
          "output_type": "execute_result",
          "data": {
            "text/plain": [
              "<matplotlib.axes._subplots.AxesSubplot at 0x7f9cc9c33690>"
            ]
          },
          "metadata": {},
          "execution_count": 98
        },
        {
          "output_type": "display_data",
          "data": {
            "text/plain": [
              "<Figure size 432x288 with 1 Axes>"
            ],
            "image/png": "[encoded data removed]"
          },
          "metadata": {
            "needs_background": "light"
          }
        }
      ]
    },
    {
      "cell_type": "code",
      "execution_count": null,
      "metadata": {
        "id": "x7yUj5bd-62L"
      },
      "outputs": [],
      "source": [
        "train[\"Оценка книги читателем (из 5 баллов)\"] = train[\"Оценка книги читателем (из 5 баллов)\"].fillna(4)\n",
        "test[\"Оценка книги читателем (из 5 баллов)\"] = test[\"Оценка книги читателем (из 5 баллов)\"].fillna(4)"
      ]
    },
    {
      "cell_type": "code",
      "execution_count": 109,
      "metadata": {
        "id": "UN_vdv9XiC0-"
      },
      "outputs": [],
      "source": [
        "train_length = train[\"Отзыв\"].map(len)\n",
        "test_length = test[\"Отзыв\"].map(len)"
      ]
    },
    {
      "cell_type": "code",
      "execution_count": 110,
      "metadata": {
        "id": "b4151kagxX73"
      },
      "outputs": [],
      "source": [
        "train[\"length\"] = train[\"Отзыв\"].map(len)\n",
        "test[\"length\"] = test[\"Отзыв\"].map(len)"
      ]
    },
    {
      "cell_type": "code",
      "execution_count": 111,
      "metadata": {
        "id": "MtPw23iNiDGE"
      },
      "outputs": [],
      "source": [
        "train[\"Автор\"] = pd.Categorical(train[\"Автор\"])\n",
        "train[\"Автор\"].astype('category').cat.codes\n",
        "train[\"Автор\"] = train[\"Автор\"].cat.codes\n",
        "\n",
        "test[\"Автор\"] = pd.Categorical(test[\"Автор\"])\n",
        "test[\"Автор\"].astype('category').cat.codes\n",
        "test[\"Автор\"] = test[\"Автор\"].cat.codes"
      ]
    },
    {
      "cell_type": "markdown",
      "source": [
        "## Построение графиков"
      ],
      "metadata": {
        "id": "nxvJruHbmc9j"
      }
    },
    {
      "cell_type": "code",
      "source": [
        "sns.barplot(train[\"Оценка книги читателем (из 5 баллов)\"], train[\"Количество оценок\"])"
      ],
      "metadata": {
        "colab": {
          "base_uri": "https://localhost:8080/",
          "height": 353
        },
        "id": "z_K7QE7xmfxK",
        "outputId": "6d650aad-fb3b-46fb-e257-e98076dc5f66"
      },
      "execution_count": 104,
      "outputs": [
        {
          "output_type": "stream",
          "name": "stderr",
          "text": [
            "/usr/local/lib/python3.7/dist-packages/seaborn/_decorators.py:43: FutureWarning: Pass the following variables as keyword args: x, y. From version 0.12, the only valid positional argument will be `data`, and passing other arguments without an explicit keyword will result in an error or misinterpretation.\n",
            "  FutureWarning\n"
          ]
        },
        {
          "output_type": "execute_result",
          "data": {
            "text/plain": [
              "<matplotlib.axes._subplots.AxesSubplot at 0x7f9cc6da0a10>"
            ]
          },
          "metadata": {},
          "execution_count": 104
        },
        {
          "output_type": "display_data",
          "data": {
            "text/plain": [
              "<Figure size 432x288 with 1 Axes>"
            ],
            "image/png": "[encoded data removed]"
          },
          "metadata": {
            "needs_background": "light"
          }
        }
      ]
    },
    {
      "cell_type": "code",
      "source": [
        "sns.barplot(train[\"Оценка книги читателем (из 5 баллов)\"], train[\"Количество отзывов\"])"
      ],
      "metadata": {
        "colab": {
          "base_uri": "https://localhost:8080/",
          "height": 353
        },
        "id": "vwoU-NytnDDh",
        "outputId": "69d149b3-9810-4d6c-c3ca-4947a598c247"
      },
      "execution_count": 105,
      "outputs": [
        {
          "output_type": "stream",
          "name": "stderr",
          "text": [
            "/usr/local/lib/python3.7/dist-packages/seaborn/_decorators.py:43: FutureWarning: Pass the following variables as keyword args: x, y. From version 0.12, the only valid positional argument will be `data`, and passing other arguments without an explicit keyword will result in an error or misinterpretation.\n",
            "  FutureWarning\n"
          ]
        },
        {
          "output_type": "execute_result",
          "data": {
            "text/plain": [
              "<matplotlib.axes._subplots.AxesSubplot at 0x7f9cc6b36310>"
            ]
          },
          "metadata": {},
          "execution_count": 105
        },
        {
          "output_type": "display_data",
          "data": {
            "text/plain": [
              "<Figure size 432x288 with 1 Axes>"
            ],
            "image/png": "[encoded data removed]"
          },
          "metadata": {
            "needs_background": "light"
          }
        }
      ]
    },
    {
      "cell_type": "code",
      "source": [
        "sns.barplot(train[\"Оценка книги читателем (из 5 баллов)\"], train[\"Дислайки на отзыв\"])"
      ],
      "metadata": {
        "colab": {
          "base_uri": "https://localhost:8080/",
          "height": 353
        },
        "id": "Ie5bM17Qnxzr",
        "outputId": "baa39a53-20fa-4246-f68c-01352302a4f2"
      },
      "execution_count": 106,
      "outputs": [
        {
          "output_type": "stream",
          "name": "stderr",
          "text": [
            "/usr/local/lib/python3.7/dist-packages/seaborn/_decorators.py:43: FutureWarning: Pass the following variables as keyword args: x, y. From version 0.12, the only valid positional argument will be `data`, and passing other arguments without an explicit keyword will result in an error or misinterpretation.\n",
            "  FutureWarning\n"
          ]
        },
        {
          "output_type": "execute_result",
          "data": {
            "text/plain": [
              "<matplotlib.axes._subplots.AxesSubplot at 0x7f9cc6d73850>"
            ]
          },
          "metadata": {},
          "execution_count": 106
        },
        {
          "output_type": "display_data",
          "data": {
            "text/plain": [
              "<Figure size 432x288 with 1 Axes>"
            ],
            "image/png": "[encoded data removed]"
          },
          "metadata": {
            "needs_background": "light"
          }
        }
      ]
    },
    {
      "cell_type": "code",
      "source": [
        "sns.barplot(train[\"Оценка книги читателем (из 5 баллов)\"], train[\"Лайки на отзыв\"])"
      ],
      "metadata": {
        "colab": {
          "base_uri": "https://localhost:8080/",
          "height": 353
        },
        "id": "RzkAfUUEnLRB",
        "outputId": "0979a316-a51f-4bcd-ef63-130953d427c8"
      },
      "execution_count": 107,
      "outputs": [
        {
          "output_type": "stream",
          "name": "stderr",
          "text": [
            "/usr/local/lib/python3.7/dist-packages/seaborn/_decorators.py:43: FutureWarning: Pass the following variables as keyword args: x, y. From version 0.12, the only valid positional argument will be `data`, and passing other arguments without an explicit keyword will result in an error or misinterpretation.\n",
            "  FutureWarning\n"
          ]
        },
        {
          "output_type": "execute_result",
          "data": {
            "text/plain": [
              "<matplotlib.axes._subplots.AxesSubplot at 0x7f9cc6cae710>"
            ]
          },
          "metadata": {},
          "execution_count": 107
        },
        {
          "output_type": "display_data",
          "data": {
            "text/plain": [
              "<Figure size 432x288 with 1 Axes>"
            ],
            "image/png": "[encoded data removed]"
          },
          "metadata": {
            "needs_background": "light"
          }
        }
      ]
    },
    {
      "cell_type": "code",
      "source": [
        "sns.lineplot(train_length, train['Длина отзыва'])"
      ],
      "metadata": {
        "colab": {
          "base_uri": "https://localhost:8080/",
          "height": 353
        },
        "id": "vIKZ7IK3wAib",
        "outputId": "80091ff1-d113-4879-b211-f2ae1fbf7e3a"
      },
      "execution_count": 113,
      "outputs": [
        {
          "output_type": "stream",
          "name": "stderr",
          "text": [
            "/usr/local/lib/python3.7/dist-packages/seaborn/_decorators.py:43: FutureWarning: Pass the following variables as keyword args: x, y. From version 0.12, the only valid positional argument will be `data`, and passing other arguments without an explicit keyword will result in an error or misinterpretation.\n",
            "  FutureWarning\n"
          ]
        },
        {
          "output_type": "execute_result",
          "data": {
            "text/plain": [
              "<matplotlib.axes._subplots.AxesSubplot at 0x7f9cc9d2a050>"
            ]
          },
          "metadata": {},
          "execution_count": 113
        },
        {
          "output_type": "display_data",
          "data": {
            "text/plain": [
              "<Figure size 432x288 with 1 Axes>"
            ],
            "image/png": "[encoded data removed]"
          },
          "metadata": {
            "needs_background": "light"
          }
        }
      ]
    },
    {
      "cell_type": "markdown",
      "metadata": {
        "id": "870l_9AGdTvF"
      },
      "source": [
        "## Разделение на выборки"
      ]
    },
    {
      "cell_type": "code",
      "execution_count": null,
      "metadata": {
        "id": "kPyQKVp8hdjK"
      },
      "outputs": [],
      "source": [
        "y_labels = ['Релевантность',\n",
        "       'Таксономия релевантные', 'Таксономия не релевантные',\n",
        "       'Длина отзыва', 'Ценности']"
      ]
    },
    {
      "cell_type": "code",
      "source": [
        "record = test[\"RecordNo\"]"
      ],
      "metadata": {
        "id": "rWgrt5W9mfh3"
      },
      "execution_count": null,
      "outputs": []
    },
    {
      "cell_type": "code",
      "execution_count": null,
      "metadata": {
        "id": "R4fN_sD-dGSG"
      },
      "outputs": [],
      "source": [
        "X = train.drop([\"Ссылка на литрес\", \"Название книги\", \"Имя читателя\", \"Отзыв\", \"RecordNo\"], axis=1)\n",
        "test = test.drop([\"Ссылка на литрес\", \"Название книги\", \"Имя читателя\", \"Отзыв\", \"RecordNo\"], axis=1)"
      ]
    },
    {
      "cell_type": "code",
      "source": [
        "x1 = X.drop(y_labels, axis=1)\n",
        "y1 = train[y_labels]"
      ],
      "metadata": {
        "id": "DLx0WA_QkFm9"
      },
      "execution_count": null,
      "outputs": []
    },
    {
      "cell_type": "markdown",
      "source": [
        "## Подбор гиперпараметров"
      ],
      "metadata": {
        "id": "Kx20eFjOjy0Q"
      }
    },
    {
      "cell_type": "code",
      "source": [
        "SEED = 42\n",
        "\n",
        "def objective(trial, data=x1, target=y1['Релевантность']):\n",
        "    \n",
        "    X_train, X_test, y_train, y_test = train_test_split(data, target, test_size=0.2, random_state=42)\n",
        "    \n",
        "    params = {\n",
        "        'metric': 'recall', \n",
        "        'random_state': SEED,\n",
        "        'n_estimators': 10000,\n",
        "        'reg_alpha': trial.suggest_loguniform('reg_alpha', 1e-3, 10.0),\n",
        "        'reg_lambda': trial.suggest_loguniform('reg_lambda', 1e-3, 10.0),\n",
        "        'colsample_bytree': trial.suggest_categorical('colsample_bytree', [0.3,0.35,0.4,0.45,0.5,0.6,0.7,0.75,0.8,0.85]),\n",
        "        'subsample': trial.suggest_categorical('subsample', [0.6,0.65,0.7,0.75,0.8,0.85]),\n",
        "        'learning_rate': trial.suggest_categorical('learning_rate', \n",
        "                                                   [0.005,0.006,0.008,0.01,0.015,0.02,0.03]),\n",
        "        'max_depth': trial.suggest_categorical('max_depth', [-1,10,20]),\n",
        "        'num_leaves' : trial.suggest_int('num_leaves', 1, 300),\n",
        "        'min_child_samples': trial.suggest_int('min_child_samples', 1, 300),\n",
        "        'cat_smooth' : trial.suggest_int('min_data_per_groups', 1, 100)\n",
        "    }\n",
        "    \n",
        "    model = CatBoostClassifier(**params)      \n",
        "    model.fit(X_train, y_train)\n",
        "    preds = model.predict(X_test)\n",
        "    \n",
        "    recall = recall_score(y_test, preds, average=\"macro\")\n",
        "    \n",
        "    return recall"
      ],
      "metadata": {
        "id": "BdTfX5gPbiy_"
      },
      "execution_count": null,
      "outputs": []
    },
    {
      "cell_type": "code",
      "source": [
        "study = optuna.create_study(direction='maximize') \n",
        "study.optimize(objective, n_trials=20)     "
      ],
      "metadata": {
        "id": "gL7Vy6QkdaRd"
      },
      "execution_count": null,
      "outputs": []
    },
    {
      "cell_type": "code",
      "source": [
        "clf = RandomForestClassifier(**study.best_trial.params)"
      ],
      "metadata": {
        "id": "13YRKfEzfWfQ"
      },
      "execution_count": null,
      "outputs": []
    },
    {
      "cell_type": "code",
      "source": [
        "# max_depth=43, min_samples_leaf=2, min_samples_split=6, n_estimators=373 = 0.5424841602100299\n",
        "# max_depth=94, min_samples_leaf=2, min_samples_split=7, n_estimators=851"
      ],
      "metadata": {
        "id": "aUwsbhYLhkHi"
      },
      "execution_count": null,
      "outputs": []
    },
    {
      "cell_type": "code",
      "source": [
        "clf.fit(x1, y1['Релевантность'])"
      ],
      "metadata": {
        "colab": {
          "base_uri": "https://localhost:8080/"
        },
        "id": "rAzPNIGwf1Im",
        "outputId": "6fc215c3-7f9d-4199-f981-0ef4c88ceb4f"
      },
      "execution_count": null,
      "outputs": [
        {
          "output_type": "execute_result",
          "data": {
            "text/plain": [
              "RandomForestClassifier(max_depth=73, min_samples_leaf=3, min_samples_split=54,\n",
              "                       n_estimators=294)"
            ]
          },
          "metadata": {},
          "execution_count": 59
        }
      ]
    },
    {
      "cell_type": "code",
      "source": [
        "res = clf.predict(x1)"
      ],
      "metadata": {
        "id": "DyInfCHDfhU_"
      },
      "execution_count": null,
      "outputs": []
    },
    {
      "cell_type": "code",
      "source": [
        "recall_score(y1['Релевантность'], res, average=\"macro\")"
      ],
      "metadata": {
        "colab": {
          "base_uri": "https://localhost:8080/"
        },
        "id": "pBPQwozoflnH",
        "outputId": "7c4e2f37-3799-439a-e1e1-3b2d699f50f9"
      },
      "execution_count": null,
      "outputs": [
        {
          "output_type": "execute_result",
          "data": {
            "text/plain": [
              "0.5976438505331353"
            ]
          },
          "metadata": {},
          "execution_count": 61
        }
      ]
    },
    {
      "cell_type": "markdown",
      "source": [
        "## Feature Importance"
      ],
      "metadata": {
        "id": "3QBaPVSMj6Z6"
      }
    },
    {
      "cell_type": "code",
      "source": [
        "feature_names = [f\"feature {i}\" for i in range(x1.shape[1])]\n",
        "forest = RandomForestClassifier(random_state=0)\n",
        "forest.fit(x1, y1)"
      ],
      "metadata": {
        "colab": {
          "base_uri": "https://localhost:8080/"
        },
        "id": "I4KBQVaYrQGW",
        "outputId": "693a82c7-a737-4b31-f29c-b6d76456a4c0"
      },
      "execution_count": null,
      "outputs": [
        {
          "output_type": "execute_result",
          "data": {
            "text/plain": [
              "RandomForestClassifier(random_state=0)"
            ]
          },
          "metadata": {},
          "execution_count": 33
        }
      ]
    },
    {
      "cell_type": "code",
      "source": [
        "x1.columns"
      ],
      "metadata": {
        "colab": {
          "base_uri": "https://localhost:8080/"
        },
        "id": "u1T6Za8Mt6ro",
        "outputId": "5c60b5e3-a034-4d72-b24e-557905498c74"
      },
      "execution_count": null,
      "outputs": [
        {
          "output_type": "execute_result",
          "data": {
            "text/plain": [
              "Index(['Автор', 'Рейтинг', 'Количество оценок', 'Количество отзывов',\n",
              "       'Оценка книги читателем (из 5 баллов)', 'Лайки на отзыв',\n",
              "       'Дислайки на отзыв', 'Длина отзыва (числ.)'],\n",
              "      dtype='object')"
            ]
          },
          "metadata": {},
          "execution_count": 52
        }
      ]
    },
    {
      "cell_type": "code",
      "source": [
        "import time\n",
        "import numpy as np\n",
        "\n",
        "start_time = time.time()\n",
        "importances = forest.feature_importances_\n",
        "std = np.std([tree.feature_importances_ for tree in forest.estimators_], axis=0)\n",
        "elapsed_time = time.time() - start_time\n",
        "\n",
        "print(f\"Elapsed time to compute the importances: {elapsed_time:.3f} seconds\")"
      ],
      "metadata": {
        "colab": {
          "base_uri": "https://localhost:8080/"
        },
        "id": "YDfeyVUHrkFR",
        "outputId": "8aef16ea-c401-476b-f5ef-7bf30f67bc77"
      },
      "execution_count": null,
      "outputs": [
        {
          "output_type": "stream",
          "name": "stdout",
          "text": [
            "Elapsed time to compute the importances: 0.023 seconds\n"
          ]
        }
      ]
    },
    {
      "cell_type": "code",
      "source": [
        "forest_importances = pd.Series(importances, index=feature_names)\n",
        "\n",
        "fig, ax = plt.subplots()\n",
        "forest_importances.plot.bar(yerr=std, ax=ax)\n",
        "ax.set_title(\"Feature importances using MDI\")\n",
        "ax.set_ylabel(\"Mean decrease in impurity\")\n",
        "fig.tight_layout()"
      ],
      "metadata": {
        "colab": {
          "base_uri": "https://localhost:8080/",
          "height": 297
        },
        "id": "BD9MFFxIrndx",
        "outputId": "3677fa27-7f47-49ba-f2cd-eaa676f62af1"
      },
      "execution_count": null,
      "outputs": [
        {
          "output_type": "display_data",
          "data": {
            "text/plain": [
              "<Figure size 432x288 with 1 Axes>"
            ],
            "image/png": "[encoded data removed]"
          },
          "metadata": {
            "needs_background": "light"
          }
        }
      ]
    },
    {
      "cell_type": "markdown",
      "source": [
        "## Попытки использовать различные классификаторы"
      ],
      "metadata": {
        "id": "9Bo5CLY_j_pD"
      }
    },
    {
      "cell_type": "code",
      "source": [
        "clf = RandomForestClassifier()"
      ],
      "metadata": {
        "id": "rZhm2xdh9ZY0"
      },
      "execution_count": 114,
      "outputs": []
    },
    {
      "cell_type": "code",
      "source": [
        "# max_depth=43, min_samples_leaf=2, min_samples_split=6, n_estimators=373 = 0.5424841602100299\n",
        "# max_depth=94, min_samples_leaf=2, min_samples_split=7, n_estimators=851"
      ],
      "metadata": {
        "id": "twAEw4C69ZY1"
      },
      "execution_count": null,
      "outputs": []
    },
    {
      "cell_type": "code",
      "source": [
        "train_length_reshaped = train_length.values.reshape(-1, 1)"
      ],
      "metadata": {
        "id": "ZzF3CaRdvTAF"
      },
      "execution_count": null,
      "outputs": []
    },
    {
      "cell_type": "code",
      "source": [
        "train_length"
      ],
      "metadata": {
        "id": "wUJAQ96Cvoix"
      },
      "execution_count": null,
      "outputs": []
    },
    {
      "cell_type": "code",
      "source": [
        "x1.info()"
      ],
      "metadata": {
        "id": "vaQA4OxEuoIp"
      },
      "execution_count": null,
      "outputs": []
    },
    {
      "cell_type": "code",
      "source": [
        "X_train, X_test, y_train, y_test = train_test_split(train_length_reshaped, y1['Длина отзыва'], test_size=0.2, random_state=42)"
      ],
      "metadata": {
        "id": "d7HH_NhU9hiU"
      },
      "execution_count": null,
      "outputs": []
    },
    {
      "cell_type": "code",
      "source": [
        "clf.fit(X_train, y_train)"
      ],
      "metadata": {
        "id": "5svx-J3G9ZY1"
      },
      "execution_count": null,
      "outputs": []
    },
    {
      "cell_type": "code",
      "source": [
        "res = clf.predict(X_test)"
      ],
      "metadata": {
        "id": "bwXhqINR9o5g"
      },
      "execution_count": null,
      "outputs": []
    },
    {
      "cell_type": "code",
      "source": [
        "print(\"Recall score:\", recall_score(y_test, res, average='macro'))"
      ],
      "metadata": {
        "colab": {
          "base_uri": "https://localhost:8080/"
        },
        "id": "dBnBAgrl9eM8",
        "outputId": "a7e159f6-a8e3-4ef9-9f87-5a0d386ba49d"
      },
      "execution_count": null,
      "outputs": [
        {
          "output_type": "stream",
          "name": "stdout",
          "text": [
            "Recall score: 0.5104886712749616\n"
          ]
        }
      ]
    },
    {
      "cell_type": "code",
      "source": [
        "'''Recall score: 0.5496764668928258'''"
      ],
      "metadata": {
        "id": "IH5GDwcKhNlX"
      },
      "execution_count": null,
      "outputs": []
    },
    {
      "cell_type": "markdown",
      "source": [
        "## NLP (ruBERT)"
      ],
      "metadata": {
        "id": "-I6AE3ivkRdI"
      }
    },
    {
      "cell_type": "code",
      "source": [
        "device = torch.device(\"cuda\")"
      ],
      "metadata": {
        "id": "zGNsRCJ5sTKi"
      },
      "execution_count": 7,
      "outputs": []
    },
    {
      "cell_type": "code",
      "source": [
        "train = pd.read_csv(\"train_dataset_train.csv\")\n",
        "test = pd.read_csv(\"test_dataset_test.csv\")"
      ],
      "metadata": {
        "id": "3wOoQw-PnIB5"
      },
      "execution_count": 8,
      "outputs": []
    },
    {
      "cell_type": "code",
      "source": [
        "train.info()"
      ],
      "metadata": {
        "colab": {
          "base_uri": "https://localhost:8080/"
        },
        "id": "YPnHsIzOnfaa",
        "outputId": "adffb9c3-88fb-4d87-ac17-b8ac4d13d39b"
      },
      "execution_count": 9,
      "outputs": [
        {
          "output_type": "stream",
          "name": "stdout",
          "text": [
            "<class 'pandas.core.frame.DataFrame'>\n",
            "RangeIndex: 4839 entries, 0 to 4838\n",
            "Data columns (total 17 columns):\n",
            " #   Column                                Non-Null Count  Dtype  \n",
            "---  ------                                --------------  -----  \n",
            " 0   RecordNo                              4839 non-null   int64  \n",
            " 1   Название книги                        4839 non-null   object \n",
            " 2   Автор                                 4839 non-null   object \n",
            " 3   Ссылка на литрес                      4839 non-null   object \n",
            " 4   Рейтинг                               4839 non-null   float64\n",
            " 5   Количество оценок                     4839 non-null   int64  \n",
            " 6   Количество отзывов                    4839 non-null   int64  \n",
            " 7   Имя читателя                          4839 non-null   object \n",
            " 8   Оценка книги читателем (из 5 баллов)  4070 non-null   float64\n",
            " 9   Отзыв                                 4839 non-null   object \n",
            " 10  Лайки на отзыв                        4839 non-null   int64  \n",
            " 11  Дислайки на отзыв                     4839 non-null   int64  \n",
            " 12  Релевантность                         4839 non-null   int64  \n",
            " 13  Таксономия релевантные                4839 non-null   int64  \n",
            " 14  Таксономия не релевантные             4839 non-null   int64  \n",
            " 15  Длина отзыва                          4839 non-null   int64  \n",
            " 16  Ценности                              4839 non-null   int64  \n",
            "dtypes: float64(2), int64(10), object(5)\n",
            "memory usage: 642.8+ KB\n"
          ]
        }
      ]
    },
    {
      "cell_type": "code",
      "source": [
        "nltk.download(\"stopwords\")\n",
        "nltk.download(\"punkt\")"
      ],
      "metadata": {
        "colab": {
          "base_uri": "https://localhost:8080/"
        },
        "id": "LKc-7F7nkVB2",
        "outputId": "1e5ad3e0-348c-4020-c838-bbd477b88d43"
      },
      "execution_count": 10,
      "outputs": [
        {
          "output_type": "stream",
          "name": "stderr",
          "text": [
            "[nltk_data] Downloading package stopwords to /root/nltk_data...\n",
            "[nltk_data]   Unzipping corpora/stopwords.zip.\n",
            "[nltk_data] Downloading package punkt to /root/nltk_data...\n",
            "[nltk_data]   Unzipping tokenizers/punkt.zip.\n"
          ]
        },
        {
          "output_type": "execute_result",
          "data": {
            "text/plain": [
              "True"
            ]
          },
          "metadata": {},
          "execution_count": 10
        }
      ]
    },
    {
      "cell_type": "code",
      "source": [
        "stop_words = set(stopwords.words(\"russian\"))"
      ],
      "metadata": {
        "id": "bnJejlBhm9yx"
      },
      "execution_count": 11,
      "outputs": []
    },
    {
      "cell_type": "code",
      "source": [
        "def remove_html(text):\n",
        "    html=re.compile(r'<.*?>')\n",
        "    return html.sub(r' ',text)\n",
        "\n",
        "def remove_emoji(text):\n",
        "    emoji_pattern = re.compile(\"[\"\n",
        "                           u\"\\U0001F600-\\U0001F64F\"  # emoticons\n",
        "                           u\"\\U0001F300-\\U0001F5FF\"  # symbols & pictographs\n",
        "                           u\"\\U0001F680-\\U0001F6FF\"  # transport & map symbols\n",
        "                           u\"\\U0001F1E0-\\U0001F1FF\"  # flags (iOS)\n",
        "                           u\"\\U00002702-\\U000027B0\"\n",
        "                           u\"\\U000024C2-\\U0001F251\"\n",
        "                           \"]+\", flags=re.UNICODE)\n",
        "    return emoji_pattern.sub(r' ', text)\n",
        "\n",
        "def remove_punct(text):\n",
        "    table=str.maketrans(\" \",\" \",string.punctuation)\n",
        "    return text.translate(table)\n",
        "\n",
        "def remove_url(text):\n",
        "    url = re.compile(r'https?://\\S+|www\\.\\S+')\n",
        "    return url.sub(r' ',text)"
      ],
      "metadata": {
        "id": "jPDRzjkbnDwh"
      },
      "execution_count": 12,
      "outputs": []
    },
    {
      "cell_type": "code",
      "source": [
        "train[\"Отзыв\"] = train[\"Отзыв\"].apply(lambda x: x.lower())"
      ],
      "metadata": {
        "id": "cJ5WruGln5b7"
      },
      "execution_count": 13,
      "outputs": []
    },
    {
      "cell_type": "code",
      "source": [
        "train['Отзыв'] = train['Отзыв'].apply(lambda x : remove_url(x))\n",
        "train['Отзыв'] = train['Отзыв'].apply(lambda x : remove_html(x))\n",
        "train['Отзыв'] = train['Отзыв'].apply(lambda x : remove_emoji(x))\n",
        "train['Отзыв'] = train['Отзыв'].apply(lambda x : remove_punct(x))"
      ],
      "metadata": {
        "id": "1B5ZvHJqnFky"
      },
      "execution_count": 14,
      "outputs": []
    },
    {
      "cell_type": "code",
      "source": [
        "train[\"Отзыв\"].head(3)"
      ],
      "metadata": {
        "id": "0NnBo6usnwfC"
      },
      "execution_count": null,
      "outputs": []
    },
    {
      "cell_type": "code",
      "source": [
        "train[\"Length\"] = train[\"Отзыв\"].map(len)"
      ],
      "metadata": {
        "id": "3Us9024godt3"
      },
      "execution_count": 16,
      "outputs": []
    },
    {
      "cell_type": "code",
      "source": [
        "train.head(1)"
      ],
      "metadata": {
        "id": "9E4k9zgMo5Tc"
      },
      "execution_count": null,
      "outputs": []
    },
    {
      "cell_type": "code",
      "source": [
        "X = train[[\"Отзыв\", \"Length\"]]"
      ],
      "metadata": {
        "id": "nUf0mu99nanq"
      },
      "execution_count": 30,
      "outputs": []
    },
    {
      "cell_type": "code",
      "source": [
        "y_labels = ['Релевантность',\n",
        "       'Таксономия релевантные', 'Таксономия не релевантные', 'Ценности']"
      ],
      "metadata": {
        "id": "6J8SXKhuEh7h"
      },
      "execution_count": 29,
      "outputs": []
    },
    {
      "cell_type": "code",
      "source": [
        "record = test[\"RecordNo\"]"
      ],
      "metadata": {
        "id": "W1ZLe1yMF9JO"
      },
      "execution_count": 19,
      "outputs": []
    },
    {
      "cell_type": "code",
      "source": [
        "tokenizer = AutoTokenizer.from_pretrained(\"DeepPavlov/rubert-base-cased\")"
      ],
      "metadata": {
        "id": "ecrRJRwAol5v"
      },
      "execution_count": null,
      "outputs": []
    },
    {
      "cell_type": "code",
      "source": [
        "model = BertForSequenceClassification.from_pretrained(\"DeepPavlov/rubert-base-cased\")\n",
        "\n",
        "model.to(device)"
      ],
      "metadata": {
        "id": "NA1SPzlJqLXl"
      },
      "execution_count": null,
      "outputs": []
    },
    {
      "cell_type": "code",
      "source": [
        "optimizer = AdamW(\n",
        "    model.parameters(),\n",
        "    lr=2e-5,\n",
        "    eps=1e-8\n",
        ")"
      ],
      "metadata": {
        "id": "vc9WEvauqRnD"
      },
      "execution_count": null,
      "outputs": []
    },
    {
      "cell_type": "code",
      "source": [
        "metric = load_metric(\"recall\")"
      ],
      "metadata": {
        "id": "5NBzrUjWqTcS"
      },
      "execution_count": null,
      "outputs": []
    },
    {
      "cell_type": "code",
      "source": [
        "def compute_metrics(eval_pred):\n",
        "    logits, labels = eval_pred\n",
        "    predictions = np.argmax(logits, axis=-1)\n",
        "    return metric.compute(predictions=predictions, references=labels)"
      ],
      "metadata": {
        "id": "G0Mq0zCzqZig"
      },
      "execution_count": 24,
      "outputs": []
    },
    {
      "cell_type": "code",
      "source": [
        "def tokenize_function_train_val(examples):\n",
        "    return tokenizer(examples[\"Отзыв\"], truncation=True, padding='max_length', max_length=50)"
      ],
      "metadata": {
        "id": "V6O7mT-oE6CT"
      },
      "execution_count": 25,
      "outputs": []
    },
    {
      "cell_type": "code",
      "source": [
        "def tokenize_function_test(examples):\n",
        "    return tokenizer(examples[\"Отзыв\"], truncation=True, padding='max_length', max_length=50, return_tensors=\"pt\")"
      ],
      "metadata": {
        "id": "NcLnVFewE9LH"
      },
      "execution_count": 26,
      "outputs": []
    },
    {
      "cell_type": "code",
      "source": [
        "d = {\n",
        "    \"RecordNo\": record\n",
        "    }"
      ],
      "metadata": {
        "id": "GkntskK6Fzau"
      },
      "execution_count": 27,
      "outputs": []
    },
    {
      "cell_type": "code",
      "source": [
        "bad_recall = ['Длина отзыва']"
      ],
      "metadata": {
        "id": "kO7QXkZXqIr1"
      },
      "execution_count": 28,
      "outputs": []
    },
    {
      "cell_type": "code",
      "source": [
        "test_length = test[\"Отзыв\"].map(len)"
      ],
      "metadata": {
        "id": "qjAE_Ehqqzly"
      },
      "execution_count": 33,
      "outputs": []
    },
    {
      "cell_type": "code",
      "source": [
        "good_train_length_df = train[train[\"Отзыв\"].map(len) < 500]\n",
        "good_train_length_df = good_train_length_df[good_train_length_df[\"Отзыв\"].map(len) >= 100]\n",
        "bad_train_length_df = train[train[\"Отзыв\"].map(len) >= 500]\n",
        "bad_train_length_df = bad_train_length_df[bad_train_length_df[\"Отзыв\"].map(len) < 100]"
      ],
      "metadata": {
        "id": "5ozgZKmQtBbj"
      },
      "execution_count": 56,
      "outputs": []
    },
    {
      "cell_type": "code",
      "source": [
        "good_test_length_df = test[test[\"Отзыв\"].map(len) < 700]\n",
        "bad_test_length_df = test[test[\"Отзыв\"].map(len) >= 700]"
      ],
      "metadata": {
        "id": "1U0qIwkMsdGk"
      },
      "execution_count": 44,
      "outputs": []
    },
    {
      "cell_type": "code",
      "source": [
        "train_x, val_x, train_y, val_y = train_test_split(good_train_length_df[\"Length\"], good_train_length_df[\"Длина отзыва\"], test_size=0.1)"
      ],
      "metadata": {
        "id": "dD7ADf9QtNHM"
      },
      "execution_count": 57,
      "outputs": []
    },
    {
      "cell_type": "code",
      "source": [
        "train_x = train_x.values.reshape(-1, 1)\n",
        "val_x = val_x.values.reshape(-1, 1)"
      ],
      "metadata": {
        "id": "t1M6t5LQtyN9"
      },
      "execution_count": 58,
      "outputs": []
    },
    {
      "cell_type": "code",
      "source": [
        "clf = CatBoostClassifier()\n",
        "clf.fit(train_x, train_y)\n",
        "pr = clf.predict(val_x)"
      ],
      "metadata": {
        "id": "RD4SksI3skwb"
      },
      "execution_count": null,
      "outputs": []
    },
    {
      "cell_type": "code",
      "source": [
        "recall_score(val_y, pr, average='macro')"
      ],
      "metadata": {
        "colab": {
          "base_uri": "https://localhost:8080/"
        },
        "id": "R_e0n-27t9il",
        "outputId": "bb368ca6-a366-4e5f-9d5d-39a9c761a9bb"
      },
      "execution_count": 70,
      "outputs": [
        {
          "output_type": "execute_result",
          "data": {
            "text/plain": [
              "0.5164469864127279"
            ]
          },
          "metadata": {},
          "execution_count": 70
        }
      ]
    },
    {
      "cell_type": "markdown",
      "source": [
        "0.5322552549065149 - DecisionTree\n",
        "\n",
        "0.5243438625014516 - RandomForest\n",
        "\n",
        "0.5164469864127279 - CatBoost"
      ],
      "metadata": {
        "id": "CNrC46mcwroo"
      }
    },
    {
      "cell_type": "code",
      "source": [
        "sns.lineplot(good_train_length_df[\"Length\"], good_train_length_df[\"Длина отзыва\"])"
      ],
      "metadata": {
        "colab": {
          "base_uri": "https://localhost:8080/",
          "height": 353
        },
        "id": "E1rFjJ6Bqf5I",
        "outputId": "ff302172-914c-483d-e6ee-af59fe690cb5"
      },
      "execution_count": 52,
      "outputs": [
        {
          "output_type": "stream",
          "name": "stderr",
          "text": [
            "/usr/local/lib/python3.7/dist-packages/seaborn/_decorators.py:43: FutureWarning: Pass the following variables as keyword args: x, y. From version 0.12, the only valid positional argument will be `data`, and passing other arguments without an explicit keyword will result in an error or misinterpretation.\n",
            "  FutureWarning\n"
          ]
        },
        {
          "output_type": "execute_result",
          "data": {
            "text/plain": [
              "<matplotlib.axes._subplots.AxesSubplot at 0x7f9d481cc810>"
            ]
          },
          "metadata": {},
          "execution_count": 52
        },
        {
          "output_type": "display_data",
          "data": {
            "text/plain": [
              "<Figure size 432x288 with 1 Axes>"
            ],
            "image/png": "[encoded data removed]"
          },
          "metadata": {
            "needs_background": "light"
          }
        }
      ]
    },
    {
      "cell_type": "code",
      "source": [
        "for label in y_labels:\n",
        "  train_df = train[[\"Отзыв\", label]]\n",
        "  train_df, val_df = train_test_split(train_df, test_size=0.1)\n",
        "  test_df = test[\"Отзыв\"]\n",
        "  test_df = test_df.to_frame()\n",
        "\n",
        "  train_dataset = Dataset.from_pandas(train_df)\n",
        "  val_dataset = Dataset.from_pandas(val_df)\n",
        "  test_dataset = Dataset.from_pandas(test_df)\n",
        "\n",
        "  tokenized_train = train_dataset.map(tokenize_function_train_val)\n",
        "  tokenized_val = val_dataset.map(tokenize_function_train_val)\n",
        "\n",
        "  tokenized_test = test_dataset.map(tokenize_function_test)\n",
        "\n",
        "  tokenized_train = tokenized_train.rename_column(label, 'label')\n",
        "  tokenized_val = tokenized_val.rename_column(label, 'label')\n",
        "\n",
        "  training_args = TrainingArguments(output_dir=\"test_trainer\", \n",
        "                                  evaluation_strategy=\"epoch\",\n",
        "                                  learning_rate=2e-5,\n",
        "                                  num_train_epochs=12,)\n",
        "  \n",
        "  trainer = Trainer(\n",
        "    model=model,\n",
        "    args=training_args,\n",
        "    train_dataset=tokenized_train,\n",
        "    eval_dataset=tokenized_val,\n",
        "    compute_metrics=compute_metrics,\n",
        "  )\n",
        "\n",
        "  trainer.train()\n",
        "\n",
        "  tokenized_test = tokenized_test.to_dict()\n",
        "\n",
        "  tokenized_test[\"input_ids\"] = torch.Tensor(tokenized_test[\"input_ids\"]).int()\n",
        "  tokenized_test[\"attention_mask\"] = torch.Tensor(tokenized_test[\"attention_mask\"]).int()\n",
        "\n",
        "  tokenized_test[\"input_ids\"].to(device)\n",
        "  tokenized_test[\"attention_mask\"].to(device)\n",
        "\n",
        "  model.eval()\n",
        "\n",
        "  preds = []\n",
        "  for x in range(len(tokenized_test[\"input_ids\"])):\n",
        "    with torch.no_grad():\n",
        "      output = model(**{\"input_ids\": tokenized_test[\"input_ids\"][x].cuda(), \"attention_mask\": tokenized_test[\"attention_mask\"][x].cuda()})\n",
        "      predictions = torch.argmax(output.logits, dim=-1)\n",
        "      preds.append(predictions)\n",
        "\n",
        "  for i in range(len(preds)):\n",
        "    preds[i] = preds[i].cpu().detach().numpy()\n",
        "\n",
        "  d[label] = preds\n",
        "\n",
        "  shutil.rmtree(\"/content/test_trainer\")\n",
        "      "
      ],
      "metadata": {
        "id": "CEZKI6c1EcSU"
      },
      "execution_count": null,
      "outputs": []
    },
    {
      "cell_type": "code",
      "execution_count": 72,
      "metadata": {
        "id": "SSJ4fc_2sy4L"
      },
      "outputs": [],
      "source": [
        "for i in d:\n",
        "  if i == \"RecordNo\":\n",
        "    continue\n",
        "  else:\n",
        "    x = d[i]\n",
        "    for j in range(len(x)):\n",
        "      x[j] =x[j][0]\n",
        "    d[i] = x"
      ]
    },
    {
      "cell_type": "code",
      "source": [
        "bad_test_length_df.head()"
      ],
      "metadata": {
        "id": "2_R2bXIUDAWN"
      },
      "execution_count": null,
      "outputs": []
    },
    {
      "cell_type": "code",
      "source": [
        "bad_test_length_df[\"Length\"] = bad_test_length_df[\"Отзыв\"].map(len)\n",
        "good_test_length_df[\"Length\"] = good_test_length_df[\"Отзыв\"].map(len)\n",
        "good_test_df = good_test_length_df[[\"Length\", \"RecordNo\"]]\n",
        "bad_test_df = bad_test_length_df[[\"Length\", \"RecordNo\"]]"
      ],
      "metadata": {
        "id": "E0dcO8_7CSou"
      },
      "execution_count": null,
      "outputs": []
    },
    {
      "cell_type": "code",
      "source": [
        "gtl_reshaped = good_test_length_df[\"Length\"].values.reshape(-1, 1)\n",
        "good_results = clf.predict(gtl_reshaped)"
      ],
      "metadata": {
        "id": "tvFpTjaEEWZv"
      },
      "execution_count": 87,
      "outputs": []
    },
    {
      "cell_type": "code",
      "source": [
        "good = {}\n",
        "for i, row in enumerate(good_test_df.iterrows()):\n",
        "  good[row[1][1]] = good_results[i]"
      ],
      "metadata": {
        "id": "x8dQBz7cEsA9"
      },
      "execution_count": null,
      "outputs": []
    },
    {
      "cell_type": "code",
      "source": [
        "bad = {}\n",
        "for row in bad_test_df.iterrows():\n",
        "  bad[row[1][1]] = 0"
      ],
      "metadata": {
        "id": "E5Ethzm3FQj2"
      },
      "execution_count": null,
      "outputs": []
    },
    {
      "cell_type": "code",
      "source": [
        "length_submit = []\n",
        "for i in test[\"RecordNo\"]:\n",
        "  if i in good:\n",
        "    length_submit.append(good[i])\n",
        "  else:\n",
        "    length_submit.append(bad[i])"
      ],
      "metadata": {
        "id": "BPtkKCihFgQP"
      },
      "execution_count": 92,
      "outputs": []
    },
    {
      "cell_type": "code",
      "source": [
        "d[\"Длина отзыва\"] = length_submit"
      ],
      "metadata": {
        "id": "dwQH6BPsF0Ne"
      },
      "execution_count": 93,
      "outputs": []
    },
    {
      "cell_type": "markdown",
      "metadata": {
        "id": "vUPON7vxenEJ"
      },
      "source": [
        "## Сабмит"
      ]
    },
    {
      "cell_type": "code",
      "execution_count": 94,
      "metadata": {
        "id": "kBiihKwKe9AB"
      },
      "outputs": [],
      "source": [
        "predictions = pd.DataFrame(d)"
      ]
    },
    {
      "cell_type": "code",
      "source": [
        "predictions.head(3)"
      ],
      "metadata": {
        "colab": {
          "base_uri": "https://localhost:8080/",
          "height": 143
        },
        "id": "xyjPxiCtSeIV",
        "outputId": "52b69e4a-ade7-4df3-ba55-cdf34fa0a6bc"
      },
      "execution_count": 95,
      "outputs": [
        {
          "output_type": "execute_result",
          "data": {
            "text/plain": [
              "   RecordNo  Релевантность  Таксономия релевантные  Таксономия не релевантные  \\\n",
              "0      3366              0                       0                          0   \n",
              "1      3952              0                       1                          0   \n",
              "2      6852              0                       1                          0   \n",
              "\n",
              "   Ценности  Длина отзыва  \n",
              "0         1             0  \n",
              "1         0             0  \n",
              "2         1             0  "
            ],
            "text/html": [
              "\n",
              "  <div id=\"df-a6d02052-c729-41bc-8e37-89d189b7c7c6\">\n",
              "    <div class=\"colab-df-container\">\n",
              "      <div>\n",
              "<style scoped>\n",
              "    .dataframe tbody tr th:only-of-type {\n",
              "        vertical-align: middle;\n",
              "    }\n",
              "\n",
              "    .dataframe tbody tr th {\n",
              "        vertical-align: top;\n",
              "    }\n",
              "\n",
              "    .dataframe thead th {\n",
              "        text-align: right;\n",
              "    }\n",
              "</style>\n",
              "<table border=\"1\" class=\"dataframe\">\n",
              "  <thead>\n",
              "    <tr style=\"text-align: right;\">\n",
              "      <th></th>\n",
              "      <th>RecordNo</th>\n",
              "      <th>Релевантность</th>\n",
              "      <th>Таксономия релевантные</th>\n",
              "      <th>Таксономия не релевантные</th>\n",
              "      <th>Ценности</th>\n",
              "      <th>Длина отзыва</th>\n",
              "    </tr>\n",
              "  </thead>\n",
              "  <tbody>\n",
              "    <tr>\n",
              "      <th>0</th>\n",
              "      <td>3366</td>\n",
              "      <td>0</td>\n",
              "      <td>0</td>\n",
              "      <td>0</td>\n",
              "      <td>1</td>\n",
              "      <td>0</td>\n",
              "    </tr>\n",
              "    <tr>\n",
              "      <th>1</th>\n",
              "      <td>3952</td>\n",
              "      <td>0</td>\n",
              "      <td>1</td>\n",
              "      <td>0</td>\n",
              "      <td>0</td>\n",
              "      <td>0</td>\n",
              "    </tr>\n",
              "    <tr>\n",
              "      <th>2</th>\n",
              "      <td>6852</td>\n",
              "      <td>0</td>\n",
              "      <td>1</td>\n",
              "      <td>0</td>\n",
              "      <td>1</td>\n",
              "      <td>0</td>\n",
              "    </tr>\n",
              "  </tbody>\n",
              "</table>\n",
              "</div>\n",
              "      <button class=\"colab-df-convert\" onclick=\"convertToInteractive('df-a6d02052-c729-41bc-8e37-89d189b7c7c6')\"\n",
              "              title=\"Convert this dataframe to an interactive table.\"\n",
              "              style=\"display:none;\">\n",
              "        \n",
              "  <svg xmlns=\"http://www.w3.org/2000/svg\" height=\"24px\"viewBox=\"0 0 24 24\"\n",
              "       width=\"24px\">\n",
              "    <path d=\"M0 0h24v24H0V0z\" fill=\"none\"/>\n",
              "    <path d=\"M18.56 5.44l.94 2.06.94-2.06 2.06-.94-2.06-.94-.94-2.06-.94 2.06-2.06.94zm-11 1L8.5 8.5l.94-2.06 2.06-.94-2.06-.94L8.5 2.5l-.94 2.06-2.06.94zm10 10l.94 2.06.94-2.06 2.06-.94-2.06-.94-.94-2.06-.94 2.06-2.06.94z\"/><path d=\"M17.41 7.96l-1.37-1.37c-.4-.4-.92-.59-1.43-.59-.52 0-1.04.2-1.43.59L10.3 9.45l-7.72 7.72c-.78.78-.78 2.05 0 2.83L4 21.41c.39.39.9.59 1.41.59.51 0 1.02-.2 1.41-.59l7.78-7.78 2.81-2.81c.8-.78.8-2.07 0-2.86zM5.41 20L4 18.59l7.72-7.72 1.47 1.35L5.41 20z\"/>\n",
              "  </svg>\n",
              "      </button>\n",
              "      \n",
              "  <style>\n",
              "    .colab-df-container {\n",
              "      display:flex;\n",
              "      flex-wrap:wrap;\n",
              "      gap: 12px;\n",
              "    }\n",
              "\n",
              "    .colab-df-convert {\n",
              "      background-color: #E8F0FE;\n",
              "      border: none;\n",
              "      border-radius: 50%;\n",
              "      cursor: pointer;\n",
              "      display: none;\n",
              "      fill: #1967D2;\n",
              "      height: 32px;\n",
              "      padding: 0 0 0 0;\n",
              "      width: 32px;\n",
              "    }\n",
              "\n",
              "    .colab-df-convert:hover {\n",
              "      background-color: #E2EBFA;\n",
              "      box-shadow: 0px 1px 2px rgba(60, 64, 67, 0.3), 0px 1px 3px 1px rgba(60, 64, 67, 0.15);\n",
              "      fill: #174EA6;\n",
              "    }\n",
              "\n",
              "    [theme=dark] .colab-df-convert {\n",
              "      background-color: #3B4455;\n",
              "      fill: #D2E3FC;\n",
              "    }\n",
              "\n",
              "    [theme=dark] .colab-df-convert:hover {\n",
              "      background-color: #434B5C;\n",
              "      box-shadow: 0px 1px 3px 1px rgba(0, 0, 0, 0.15);\n",
              "      filter: drop-shadow(0px 1px 2px rgba(0, 0, 0, 0.3));\n",
              "      fill: #FFFFFF;\n",
              "    }\n",
              "  </style>\n",
              "\n",
              "      <script>\n",
              "        const buttonEl =\n",
              "          document.querySelector('#df-a6d02052-c729-41bc-8e37-89d189b7c7c6 button.colab-df-convert');\n",
              "        buttonEl.style.display =\n",
              "          google.colab.kernel.accessAllowed ? 'block' : 'none';\n",
              "\n",
              "        async function convertToInteractive(key) {\n",
              "          const element = document.querySelector('#df-a6d02052-c729-41bc-8e37-89d189b7c7c6');\n",
              "          const dataTable =\n",
              "            await google.colab.kernel.invokeFunction('convertToInteractive',\n",
              "                                                     [key], {});\n",
              "          if (!dataTable) return;\n",
              "\n",
              "          const docLinkHtml = 'Like what you see? Visit the ' +\n",
              "            '<a target=\"_blank\" href=https://colab.research.google.com/notebooks/data_table.ipynb>data table notebook</a>'\n",
              "            + ' to learn more about interactive tables.';\n",
              "          element.innerHTML = '';\n",
              "          dataTable['output_type'] = 'display_data';\n",
              "          await google.colab.output.renderOutput(dataTable, element);\n",
              "          const docLink = document.createElement('div');\n",
              "          docLink.innerHTML = docLinkHtml;\n",
              "          element.appendChild(docLink);\n",
              "        }\n",
              "      </script>\n",
              "    </div>\n",
              "  </div>\n",
              "  "
            ]
          },
          "metadata": {},
          "execution_count": 95
        }
      ]
    },
    {
      "cell_type": "code",
      "execution_count": 96,
      "metadata": {
        "id": "OaySnwRzejpc"
      },
      "outputs": [],
      "source": [
        "predictions.to_csv(\"predict_nlp.csv\", sep=\",\", index=None)"
      ]
    }
  ],
  "metadata": {
    "colab": {
      "collapsed_sections": [],
      "provenance": []
    },
    "kernelspec": {
      "display_name": "Python 3",
      "name": "python3"
    },
    "language_info": {
      "name": "python"
    },
    "accelerator": "GPU"
  },
  "nbformat": 4,
  "nbformat_minor": 0
}